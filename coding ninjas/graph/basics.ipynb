{
 "cells": [
  {
   "cell_type": "code",
   "execution_count": 6,
   "metadata": {},
   "outputs": [
    {
     "ename": "AttributeError",
     "evalue": "'Graph' object has no attribute '_adjMatrix'",
     "output_type": "error",
     "traceback": [
      "\u001b[0;31m---------------------------------------------------------------------------\u001b[0m",
      "\u001b[0;31mAttributeError\u001b[0m                            Traceback (most recent call last)",
      "Cell \u001b[0;32mIn[6], line 23\u001b[0m\n\u001b[1;32m     20\u001b[0m         \u001b[39mreturn\u001b[39;00m \u001b[39mstr\u001b[39m(\u001b[39mself\u001b[39m\u001b[39m.\u001b[39m_adjMatrix)\n\u001b[1;32m     22\u001b[0m g\u001b[39m=\u001b[39mGraph(\u001b[39m4\u001b[39m)\n\u001b[0;32m---> 23\u001b[0m g\u001b[39m.\u001b[39;49maddEdge(\u001b[39m1\u001b[39;49m,\u001b[39m1\u001b[39;49m)\n\u001b[1;32m     24\u001b[0m g\u001b[39m.\u001b[39maddEdge\n\u001b[1;32m     25\u001b[0m \u001b[39mprint\u001b[39m(g)\n",
      "Cell \u001b[0;32mIn[6], line 7\u001b[0m, in \u001b[0;36mGraph.addEdge\u001b[0;34m(self, v1, v2)\u001b[0m\n\u001b[1;32m      6\u001b[0m \u001b[39mdef\u001b[39;00m \u001b[39maddEdge\u001b[39m(\u001b[39mself\u001b[39m,v1,v2):\n\u001b[0;32m----> 7\u001b[0m     \u001b[39mself\u001b[39;49m\u001b[39m.\u001b[39;49m_adjMatrix[v1][v2]\u001b[39m=\u001b[39m\u001b[39m1\u001b[39m\n\u001b[1;32m      8\u001b[0m     \u001b[39mself\u001b[39m\u001b[39m.\u001b[39m_adjMatrix[v2][v1]\u001b[39m=\u001b[39m\u001b[39m1\u001b[39m\n",
      "\u001b[0;31mAttributeError\u001b[0m: 'Graph' object has no attribute '_adjMatrix'"
     ]
    }
   ],
   "source": [
    "class Graph:\n",
    "    def __init__(self,nVertices):\n",
    "        self.nVertices=nVertices\n",
    "        self.__adjMatrix=[[0 for i in range(nVertices)] for j in range(nVertices)]\n",
    "\n",
    "    def addEdge(self,v1,v2):\n",
    "        self.__adjMatrix[v1][v2]=1\n",
    "        self.__adjMatrix[v2][v1]=1\n",
    "    \n",
    "    def containEdge(self,v1,v2):\n",
    "        return True if(self.__adjMatrix[v1][v2]>0 and self.__adjMatrix[v2][v1]>0) else False\n",
    "    \n",
    "    def removeEdge(self,v1,v2):\n",
    "        if(self.containEdge(v1,v2)):\n",
    "            self.__adjMatrix[v1][v2]=0\n",
    "            self.__adjMatrix[v2][v1]=0\n",
    "        return\n",
    "    \n",
    "    def __str__(self) -> str:\n",
    "        return str(self.__adjMatrix)\n",
    "    \n",
    "g=Graph(4)\n",
    "g.addEdge(1,1)\n",
    "g.addEdge\n",
    "print(g)\n",
    "\n"
   ]
  }
 ],
 "metadata": {
  "kernelspec": {
   "display_name": "Python 3",
   "language": "python",
   "name": "python3"
  },
  "language_info": {
   "codemirror_mode": {
    "name": "ipython",
    "version": 3
   },
   "file_extension": ".py",
   "mimetype": "text/x-python",
   "name": "python",
   "nbconvert_exporter": "python",
   "pygments_lexer": "ipython3",
   "version": "3.10.6"
  },
  "orig_nbformat": 4
 },
 "nbformat": 4,
 "nbformat_minor": 2
}
