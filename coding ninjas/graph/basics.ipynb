{
 "cells": [
  {
   "cell_type": "code",
   "execution_count": 17,
   "metadata": {},
   "outputs": [
    {
     "name": "stdout",
     "output_type": "stream",
     "text": [
      "[[0, 1, 1, 0, 0], [1, 0, 0, 1, 1], [1, 0, 0, 0, 1], [0, 1, 0, 0, 0], [0, 1, 1, 0, 0]]\n",
      "Vertex 3: Discovery Time = 3, Finish Time = 4\n",
      "Vertex 2: Discovery Time = 6, Finish Time = 7\n",
      "Vertex 4: Discovery Time = 5, Finish Time = 8\n",
      "Vertex 1: Discovery Time = 2, Finish Time = 9\n",
      "Vertex 0: Discovery Time = 1, Finish Time = 10\n"
     ]
    }
   ],
   "source": [
    "class Graph:\n",
    "    def __init__(self,nVertices):\n",
    "        self.nVertices=nVertices\n",
    "        self.__adjMatrix=[[0 for i in range(nVertices)] for j in range(nVertices)]\n",
    "\n",
    "    def addEdge(self,v1,v2):\n",
    "        self.__adjMatrix[v1][v2]=1\n",
    "        self.__adjMatrix[v2][v1]=1\n",
    "    \n",
    "    def containEdge(self,v1,v2):\n",
    "        return True if(self.__adjMatrix[v1][v2]>0 and self.__adjMatrix[v2][v1]>0) else False\n",
    "    \n",
    "    def removeEdge(self,v1,v2):\n",
    "        if(self.containEdge(v1,v2)):\n",
    "            self.__adjMatrix[v1][v2]=0\n",
    "            self.__adjMatrix[v2][v1]=0\n",
    "        return\n",
    "    \n",
    "    def __str__(self) -> str:\n",
    "        return str(self.__adjMatrix)\n",
    "    \n",
    "    #! DFS\n",
    "    def __dfsHelper(self,vertex,visited:list):\n",
    "        print(vertex,end=\" \")\n",
    "        visited[vertex]=True\n",
    "        for i in range(self.nVertices):\n",
    "            if(not visited[i] and self.__adjMatrix[i][vertex]>0):\n",
    "                self.__dfsHelper(i,visited)\n",
    "\n",
    "    def dfs(self,start):\n",
    "        visited=[False for i in range(self.nVertices)]\n",
    "        self.__dfsHelper(start,visited)\n",
    "        \n",
    "    \n",
    "g=Graph(5)\n",
    "'''\n",
    "    0\n",
    "   / \\\n",
    "  2   1 \n",
    "   \\ / \\\n",
    "    4   3\n",
    "\n",
    "  dfs(1) : 1 2 3\n",
    "  dfs(2) : 1 0 2 4 3 \n",
    "'''\n",
    "g.addEdge(0,2)   \n",
    "g.addEdge(0,1)\n",
    "g.addEdge(2,4)\n",
    "g.addEdge(1,4)\n",
    "g.addEdge(1,3)\n",
    "print(g)\n",
    "g.dfs(1)\n"
   ]
  },
  {
   "cell_type": "code",
   "execution_count": 3,
   "metadata": {},
   "outputs": [
    {
     "name": "stdout",
     "output_type": "stream",
     "text": [
      "2\n"
     ]
    }
   ],
   "source": [
    "def solve(A, B):\n",
    "    for i in range(max(A,B),A*B+2):\n",
    "        if(i%A==0 and i%B==0):\n",
    "            print(i)\n",
    "            break\n",
    "solve(1,2)"
   ]
  },
  {
   "cell_type": "code",
   "execution_count": 1,
   "metadata": {},
   "outputs": [
    {
     "name": "stdout",
     "output_type": "stream",
     "text": [
      "1000000000\n"
     ]
    }
   ],
   "source": [
    "n=0\n",
    "while n<1000000000:\n",
    "    n+=1\n",
    "print(n)"
   ]
  }
 ],
 "metadata": {
  "kernelspec": {
   "display_name": "Python 3",
   "language": "python",
   "name": "python3"
  },
  "language_info": {
   "codemirror_mode": {
    "name": "ipython",
    "version": 3
   },
   "file_extension": ".py",
   "mimetype": "text/x-python",
   "name": "python",
   "nbconvert_exporter": "python",
   "pygments_lexer": "ipython3",
   "version": "3.10.6"
  },
  "orig_nbformat": 4
 },
 "nbformat": 4,
 "nbformat_minor": 2
}
