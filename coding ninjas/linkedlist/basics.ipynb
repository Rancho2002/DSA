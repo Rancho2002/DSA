{
 "cells": [
  {
   "cell_type": "code",
   "execution_count": 2,
   "metadata": {},
   "outputs": [
    {
     "name": "stdout",
     "output_type": "stream",
     "text": [
      "<__main__.Node object at 0x7f0aebcda950>\n",
      "<__main__.Node object at 0x7f0aebcd8ac0>\n",
      "<__main__.Node object at 0x7f0aebcd8ac0>\n"
     ]
    },
    {
     "data": {
      "text/plain": [
       "2"
      ]
     },
     "execution_count": 2,
     "metadata": {},
     "output_type": "execute_result"
    }
   ],
   "source": [
    "from typing import Optional\n",
    "\n",
    "class Node:\n",
    "    def __init__(self,data):\n",
    "        self.data=data\n",
    "        self.next:Optional[Node]=None\n",
    "\n",
    "a=Node(13)\n",
    "b=Node(2)\n",
    "a.next=b\n",
    "print(a)\n",
    "print(a.next)\n",
    "print(b)\n",
    "\n",
    "a.next.data"
   ]
  },
  {
   "cell_type": "code",
   "execution_count": 9,
   "metadata": {},
   "outputs": [
    {
     "name": "stdout",
     "output_type": "stream",
     "text": [
      "2->5->8->9->6->None\n"
     ]
    }
   ],
   "source": [
    "# taking input\n",
    "from typing import Optional\n",
    "\n",
    "class Node:\n",
    "    def __init__(self,data):\n",
    "        self.data=data\n",
    "        self.next:Optional[Node]=None\n",
    "\n",
    "#! O(n2) time\n",
    "# def takeInput()->Optional[Node]:\n",
    "#     elem=list(map(int,input().split()))\n",
    "#     head=None\n",
    "#     for item in elem:\n",
    "#         if item==-1:\n",
    "#             break\n",
    "\n",
    "#         newNode=Node(item)\n",
    "        \n",
    "#         if head is None:\n",
    "#             head=newNode\n",
    "#         else:\n",
    "#             cur=head\n",
    "#             while cur.next is not None:\n",
    "#                 cur=cur.next\n",
    "#             cur.next=newNode\n",
    "        \n",
    "#     return head\n",
    "\n",
    "#! O(n)\n",
    "def takeInput():\n",
    "    elem=list(map(int,input().split()))\n",
    "    head=None\n",
    "    for item in elem:\n",
    "        if item==-1:\n",
    "            break\n",
    "\n",
    "        newNode=Node(item)\n",
    "        \n",
    "        if head is None:\n",
    "            head=newNode\n",
    "            cur=newNode\n",
    "        else:\n",
    "            cur.next=newNode\n",
    "            cur=newNode\n",
    "\n",
    "    return head\n",
    "\n",
    "\n",
    "\n",
    "def printNode(head:Optional[Node]):\n",
    "    # cur=head\n",
    "    while head is not None:\n",
    "        print(head.data,\"->\",sep=\"\",end=\"\")\n",
    "        head=head.next\n",
    "    print(\"None\")\n",
    "    \n",
    "\n",
    "head=takeInput()\n",
    "printNode(head)\n",
    "\n",
    "\n"
   ]
  },
  {
   "cell_type": "code",
   "execution_count": 1,
   "metadata": {},
   "outputs": [
    {
     "name": "stdout",
     "output_type": "stream",
     "text": [
      "5\n",
      "1 2 3 4 5 \n",
      "\n",
      "2 3 4 5 "
     ]
    }
   ],
   "source": [
    "from typing import Optional\n",
    "class Node:\n",
    "    def __init__(self,data) -> None:\n",
    "        self.data=data\n",
    "        self.next:Optional[Node]=None\n",
    "\n",
    "s=[1,2,3,4,5]\n",
    "\n",
    "head=None\n",
    "cur=None\n",
    "\n",
    "for i in s:\n",
    "    newNode=Node(i)\n",
    "    if head is None:\n",
    "        head=newNode\n",
    "        cur=newNode\n",
    "    else:\n",
    "        cur.next=newNode\n",
    "        cur=newNode\n",
    "\n",
    "\n",
    "def printNode(head:Node):\n",
    "    while head is not None:\n",
    "        print(head.data,end=\" \")\n",
    "        head=head.next\n",
    "    \n",
    "\n",
    "def lengthlist(head:Node):\n",
    "    ans=0\n",
    "    while head is not None:\n",
    "        ans+=1\n",
    "        head=head.next\n",
    "    return ans\n",
    "\n",
    "print(lengthlist(head))\n",
    "# print i th node\n",
    "\n",
    "def ithNode(temp:Node,i:int)->int:\n",
    "    count=0\n",
    "    while count<i and temp is not None:\n",
    "        if count==i:\n",
    "            return temp.data\n",
    "        count+=1\n",
    "        temp.next=temp\n",
    "    return -1\n",
    "\n",
    "\n",
    "\n",
    "\n",
    "def insertatIth(head, pos, val):\n",
    "    # Write your code here.\n",
    "    if pos<0 or pos>lengthlist(head):\n",
    "        return head\n",
    "    prev=None\n",
    "    cur=head\n",
    "    count=0\n",
    "    while count<pos:\n",
    "        prev=cur\n",
    "        cur=cur.next\n",
    "        count+=1\n",
    "    \n",
    "    newNode=Node(val)\n",
    "    if prev is not None:\n",
    "        prev.next=newNode\n",
    "    else:\n",
    "        head=newNode\n",
    "    newNode.next=cur\n",
    "\n",
    "    return head\n",
    "\n",
    "\n",
    "def deleteNode(head,pos):\n",
    "    if pos==0:\n",
    "        return head.next\n",
    "    \n",
    "    # if pos<lengthlist(head):\n",
    "    index=0\n",
    "    prev=None\n",
    "    cur=head\n",
    "    while index<pos: # if 1 based indexing pos-1\n",
    "        prev=cur\n",
    "        cur=cur.next\n",
    "        index+=1\n",
    "    \n",
    "    \n",
    "    prev.next=cur.next\n",
    "\n",
    "    return head\n",
    "\n",
    "\n",
    "printNode(head)\n",
    "head=deleteNode(head,0)\n",
    "print(\"\\n\")\n",
    "printNode(head)\n",
    "\n"
   ]
  },
  {
   "cell_type": "code",
   "execution_count": 21,
   "metadata": {},
   "outputs": [
    {
     "name": "stdout",
     "output_type": "stream",
     "text": [
      "[('1', '2', '3'), ('1', '3', '2'), ('2', '1', '3'), ('2', '3', '1'), ('3', '1', '2'), ('3', '2', '1')]\n"
     ]
    }
   ],
   "source": []
  },
  {
   "cell_type": "code",
   "execution_count": 1,
   "metadata": {},
   "outputs": [
    {
     "name": "stdout",
     "output_type": "stream",
     "text": [
      "   *\n",
      "  ***\n",
      " *****\n",
      "*******\n"
     ]
    }
   ],
   "source": []
  }
 ],
 "metadata": {
  "kernelspec": {
   "display_name": "Python 3",
   "language": "python",
   "name": "python3"
  },
  "language_info": {
   "codemirror_mode": {
    "name": "ipython",
    "version": 3
   },
   "file_extension": ".py",
   "mimetype": "text/x-python",
   "name": "python",
   "nbconvert_exporter": "python",
   "pygments_lexer": "ipython3",
   "version": "3.10.12"
  },
  "orig_nbformat": 4
 },
 "nbformat": 4,
 "nbformat_minor": 2
}
