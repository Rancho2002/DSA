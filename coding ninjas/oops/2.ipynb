{
 "cells": [
  {
   "cell_type": "code",
   "execution_count": 21,
   "metadata": {},
   "outputs": [
    {
     "data": {
      "text/plain": [
       "('11000', '11011')"
      ]
     },
     "execution_count": 21,
     "metadata": {},
     "output_type": "execute_result"
    }
   ],
   "source": [
    "def dec2bin(n:int):\n",
    "    ans=\"\"\n",
    "    while(n!=0):\n",
    "        ans+=str(n%2)\n",
    "        n=n//2\n",
    "    ans=\"\".join(reversed(ans))\n",
    "    return ans if ans else 0\n",
    "dec2bin(24),dec2bin(27)"
   ]
  },
  {
   "cell_type": "code",
   "execution_count": 22,
   "metadata": {},
   "outputs": [
    {
     "data": {
      "text/plain": [
       "0"
      ]
     },
     "execution_count": 22,
     "metadata": {},
     "output_type": "execute_result"
    }
   ],
   "source": [
    "def bin2dec(n:int):\n",
    "    ans=\"\"\n",
    "    base=0\n",
    "    while(n):\n",
    "        unit=n%10\n",
    "        n=n//10\n",
    "        if(unit==1):\n",
    "            ans+=str(pow(2,base))\n",
    "        base+=1\n",
    "    ans=\"\".join(reversed(ans))\n",
    "    return ans if ans else 0\n",
    "bin2dec(0)\n"
   ]
  },
  {
   "cell_type": "code",
   "execution_count": 23,
   "metadata": {},
   "outputs": [
    {
     "name": "stdout",
     "output_type": "stream",
     "text": [
      "Name: Alto\n",
      "Maxspeed: 40\n",
      "Gear 4\n",
      "color: white\n",
      "tyres: 4\n",
      "Number: 32323\n",
      "Color: red\n"
     ]
    }
   ],
   "source": [
    "# Inheritance\n",
    "class Vehicle():\n",
    "    def __init__(self,color,tyres,number):\n",
    "        self.color=color\n",
    "        self.tyres=tyres\n",
    "        self.__number=number\n",
    "    \n",
    "    def getNumber(self):\n",
    "        return self.__number #! getter : to access private members as this function is public but not the number variable\n",
    "\n",
    "    def setNumber(self,number): #! setter\n",
    "        self.__number=number\n",
    "    \n",
    "    def print(self):\n",
    "        print(\"Color:\",self.color)\n",
    "    \n",
    "\n",
    "class Car(Vehicle):\n",
    "    def __init__(self, color, tyres,number,name,maxSpeed,gears):\n",
    "        super().__init__(color, tyres, number) # ! super method run the parent method that mean self.color=color and self.tyres=tyres\n",
    "        self.maxSpeed=maxSpeed\n",
    "        self.gears=gears\n",
    "        self.name=name\n",
    "    \n",
    "    def showDetails(self):\n",
    "        print(\"Name:\",self.name)\n",
    "        print(\"Maxspeed:\",self.maxSpeed)\n",
    "        print(\"Gear\",self.gears)\n",
    "        print(\"color:\",self.color)\n",
    "        print(\"tyres:\",self.tyres)\n",
    "        print(\"Number:\",self.getNumber())\n",
    "    \n",
    "    def print(self):\n",
    "        return super().print()\n",
    "        # return self.print() # ! wrong\n",
    " #! self vs super, if parent and chiled has same function name, then child function keep calling and it stuck in recursion so here comes the use of super method, that says you want access the parent method\n",
    "\n",
    "# v1=Vehicle(\"white\",4)\n",
    "c1=Car(\"white\",4,32323,\"Alto\",40,4)\n",
    "c1.showDetails()\n",
    "c1.color=\"red\"\n",
    "c1.print()"
   ]
  },
  {
   "cell_type": "code",
   "execution_count": null,
   "metadata": {},
   "outputs": [],
   "source": [
    "class Father():\n",
    "    def __init__(self) -> None:\n",
    "        pass"
   ]
  },
  {
   "cell_type": "code",
   "execution_count": 3,
   "metadata": {},
   "outputs": [
    {
     "data": {
      "text/plain": [
       "1"
      ]
     },
     "execution_count": 3,
     "metadata": {},
     "output_type": "execute_result"
    }
   ],
   "source": [
    "import math\n",
    "def sumDigit(n:int)->int:\n",
    "    ans=0\n",
    "    while(n):\n",
    "        ans=ans+(n%10)\n",
    "        n=n//10\n",
    "    return ans\n",
    "sumDigit(1)\n",
    "int(math.log2(5))-1"
   ]
  }
 ],
 "metadata": {
  "kernelspec": {
   "display_name": "Python 3",
   "language": "python",
   "name": "python3"
  },
  "language_info": {
   "codemirror_mode": {
    "name": "ipython",
    "version": 3
   },
   "file_extension": ".py",
   "mimetype": "text/x-python",
   "name": "python",
   "nbconvert_exporter": "python",
   "pygments_lexer": "ipython3",
   "version": "3.10.6"
  },
  "orig_nbformat": 4
 },
 "nbformat": 4,
 "nbformat_minor": 2
}
