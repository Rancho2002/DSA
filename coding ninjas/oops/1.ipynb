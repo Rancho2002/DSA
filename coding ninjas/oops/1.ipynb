{
 "cells": [
  {
   "cell_type": "code",
   "execution_count": 21,
   "metadata": {},
   "outputs": [],
   "source": [
    "class Student:\n",
    "    # name = \"hi\"\n",
    "    pass"
   ]
  },
  {
   "cell_type": "code",
   "execution_count": 22,
   "metadata": {},
   "outputs": [
    {
     "data": {
      "text/plain": [
       "(<__main__.Student at 0x7f5ae02cab30>,\n",
       " <__main__.Student at 0x7f5ae02c86a0>,\n",
       " <__main__.Student at 0x7f5ae02c9000>)"
      ]
     },
     "execution_count": 22,
     "metadata": {},
     "output_type": "execute_result"
    }
   ],
   "source": [
    "s1=Student()\n",
    "s2=Student()\n",
    "s3=Student()\n",
    "s1,s2,s3"
   ]
  },
  {
   "cell_type": "code",
   "execution_count": 23,
   "metadata": {},
   "outputs": [],
   "source": [
    "s1.name=\"Arijit\"\n",
    "s2.roll=23"
   ]
  },
  {
   "cell_type": "code",
   "execution_count": 24,
   "metadata": {},
   "outputs": [
    {
     "data": {
      "text/plain": [
       "{'name': 'Arijit'}"
      ]
     },
     "execution_count": 24,
     "metadata": {},
     "output_type": "execute_result"
    }
   ],
   "source": [
    "s1.name\n",
    "s1.__dict__ #{'name': 'Arijit'}"
   ]
  },
  {
   "cell_type": "code",
   "execution_count": 25,
   "metadata": {},
   "outputs": [
    {
     "data": {
      "text/plain": [
       "{'roll': 23}"
      ]
     },
     "execution_count": 25,
     "metadata": {},
     "output_type": "execute_result"
    }
   ],
   "source": [
    "s2.__dict__"
   ]
  },
  {
   "cell_type": "code",
   "execution_count": 26,
   "metadata": {},
   "outputs": [
    {
     "data": {
      "text/plain": [
       "True"
      ]
     },
     "execution_count": 26,
     "metadata": {},
     "output_type": "execute_result"
    }
   ],
   "source": [
    "hasattr(s1,\"name\")"
   ]
  },
  {
   "cell_type": "code",
   "execution_count": 27,
   "metadata": {},
   "outputs": [
    {
     "data": {
      "text/plain": [
       "'Arijit'"
      ]
     },
     "execution_count": 27,
     "metadata": {},
     "output_type": "execute_result"
    }
   ],
   "source": [
    "getattr(s1,\"name\")"
   ]
  },
  {
   "cell_type": "code",
   "execution_count": 28,
   "metadata": {},
   "outputs": [
    {
     "name": "stdout",
     "output_type": "stream",
     "text": [
      "Not defined\n",
      "Arijit\n"
     ]
    }
   ],
   "source": [
    "print(getattr(s3,\"name\",\"Not defined\"))\n",
    "print(getattr(s1,\"name\",\"Not defined\"))"
   ]
  },
  {
   "cell_type": "code",
   "execution_count": 19,
   "metadata": {},
   "outputs": [],
   "source": [
    "delattr(s1,\"name\")"
   ]
  },
  {
   "cell_type": "code",
   "execution_count": 68,
   "metadata": {},
   "outputs": [],
   "source": [
    "from datetime import date\n",
    "class Student:\n",
    "    def __init__(self,name,year,roll) -> None:\n",
    "        self.name=name\n",
    "        self.year=year\n",
    "        self.roll=roll\n",
    "        print(\"Hi,\",self.name,\"age,\",year,\"roll,\",roll)\n",
    "\n",
    "\n",
    "    def details(self): #! self is a object and it must be passed because class objects are interpreted like this: Student.details(s1) // that mean one argument\n",
    "        self.name=\"Arijit\" #? and to create a instance attribute of a object, we have to write as <obj name>.<att name>=<value>\n",
    "        #* Instance attribute can be used throughout the lifespan of the object\n",
    "        percentage=80\n",
    "        print(\"Name, Percentage \",self.name,percentage) #? this attribute lifespan is only inside this details function\n",
    "    def greet(self):\n",
    "        print(self.name)\n",
    "        # print(percentage)\n",
    "\n",
    "    @classmethod #! returns object of the class (factory method) 1st attribute must be class(cls is strongly maintained)\n",
    "    def age(cls,name, year,roll):\n",
    "        return cls(name,date.today().year-year,roll)\n",
    "     \n",
    "    @staticmethod #! this decorater will keep this method/function away from object by not binding object\n",
    "    def welcome():\n",
    "        print(\"Welcome Student.\")\n"
   ]
  },
  {
   "cell_type": "code",
   "execution_count": 70,
   "metadata": {},
   "outputs": [
    {
     "name": "stdout",
     "output_type": "stream",
     "text": [
      "Hi, Arijit age, 2022 roll, 17\n",
      "Hi, mogembo age, 21 roll, 17\n"
     ]
    }
   ],
   "source": [
    "s1=Student(\"Arijit\",2022,17)\n",
    "s1=Student.age(\"mogembo\",2002,17)\n",
    "# s1.details()\n",
    "# s1.greet() #! percentage not defined error\n",
    "# s1.welcome()"
   ]
  },
  {
   "cell_type": "code",
   "execution_count": 67,
   "metadata": {},
   "outputs": [
    {
     "name": "stdout",
     "output_type": "stream",
     "text": [
      "Hello, Arijit\n",
      "Hello, Ratan\n",
      "{'name': 'Arijit', 'roll': 17}\n",
      "{'name': 'Ratan', 'roll': 72}\n"
     ]
    }
   ],
   "source": [
    "class Hello:\n",
    "    def __init__(self,name,roll):\n",
    "        self.name=name\n",
    "        self.roll=roll\n",
    "        print(\"Hello,\",self.name)\n",
    "\n",
    "\n",
    "s1=Hello(\"Arijit\",17)\n",
    "s2=Hello(\"Ratan\",72)\n",
    "\n",
    "print(s1.__dict__)\n",
    "print(s2.__dict__)"
   ]
  }
 ],
 "metadata": {
  "kernelspec": {
   "display_name": "Python 3",
   "language": "python",
   "name": "python3"
  },
  "language_info": {
   "codemirror_mode": {
    "name": "ipython",
    "version": 3
   },
   "file_extension": ".py",
   "mimetype": "text/x-python",
   "name": "python",
   "nbconvert_exporter": "python",
   "pygments_lexer": "ipython3",
   "version": "3.10.6"
  },
  "orig_nbformat": 4
 },
 "nbformat": 4,
 "nbformat_minor": 2
}
