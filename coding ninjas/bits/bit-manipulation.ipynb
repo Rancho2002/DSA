{
 "cells": [
  {
   "cell_type": "code",
   "execution_count": 9,
   "metadata": {},
   "outputs": [
    {
     "name": "stdout",
     "output_type": "stream",
     "text": [
      "Not set\n"
     ]
    }
   ],
   "source": [
    "# i th bit set or not\n",
    "n=int(input(\"Enter number: \"))\n",
    "i=int(input(\"Enter i th bit: \"))\n",
    "print(\"Set\" if n&(1<<i)!=0 else \"Not set\") # 5: 101 , 2nd "
   ]
  },
  {
   "cell_type": "code",
   "execution_count": 11,
   "metadata": {},
   "outputs": [
    {
     "name": "stdout",
     "output_type": "stream",
     "text": [
      "5\n"
     ]
    }
   ],
   "source": [
    "# make i th bit set\n",
    "n=int(input(\"Enter number: \"))\n",
    "i=int(input(\"Enter i th bit: \"))\n",
    "new=n | 1<<i\n",
    "print(new)"
   ]
  },
  {
   "cell_type": "code",
   "execution_count": 16,
   "metadata": {},
   "outputs": [
    {
     "name": "stdout",
     "output_type": "stream",
     "text": [
      "5\n"
     ]
    }
   ],
   "source": [
    "# clear ith set bit\n",
    "n=int(input(\"Enter number: \"))\n",
    "i=int(input(\"Enter i th bit: \"))\n",
    "new=n & ~(1<<i) # 101 -> 2 -> 001\n",
    "print(new)"
   ]
  },
  {
   "cell_type": "code",
   "execution_count": 19,
   "metadata": {},
   "outputs": [
    {
     "name": "stdout",
     "output_type": "stream",
     "text": [
      "8\n"
     ]
    }
   ],
   "source": [
    "# reverse the last set bit\n",
    "n=int(input(\"Enter number: \"))\n",
    "i=0\n",
    "for i in range(0,32):\n",
    "    if(n & 1<<i!=0):\n",
    "        break\n",
    "\n",
    "ans=n & ~(1<<i)\n",
    "print(ans) # 12: 1100 : 1000"
   ]
  },
  {
   "cell_type": "code",
   "execution_count": 25,
   "metadata": {},
   "outputs": [
    {
     "name": "stdout",
     "output_type": "stream",
     "text": [
      "0b100\n",
      "0b0\n"
     ]
    }
   ],
   "source": [
    "# reverse the last set bit\n",
    "n=int(input())\n",
    "print(bin(n))\n",
    "print(bin(n & n-1))\n"
   ]
  },
  {
   "cell_type": "code",
   "execution_count": 27,
   "metadata": {},
   "outputs": [
    {
     "name": "stdout",
     "output_type": "stream",
     "text": [
      "4 is a power of 2\n"
     ]
    }
   ],
   "source": [
    "#power of 2\n",
    "n=int(input())\n",
    "print(f\"{n} is a power of 2\" if n & n-1 ==0 else f\"{n} is not a power of 2\")"
   ]
  },
  {
   "cell_type": "code",
   "execution_count": 31,
   "metadata": {},
   "outputs": [
    {
     "name": "stdout",
     "output_type": "stream",
     "text": [
      "5\n"
     ]
    }
   ],
   "source": [
    "# number of bits\n",
    "n=int(input())\n",
    "ans=0\n",
    "while(n!=0):\n",
    "    n=n>>1\n",
    "    ans+=1\n",
    "print(ans)"
   ]
  },
  {
   "cell_type": "code",
   "execution_count": 35,
   "metadata": {},
   "outputs": [
    {
     "name": "stdout",
     "output_type": "stream",
     "text": [
      "1\n"
     ]
    }
   ],
   "source": [
    "# number of set bit\n",
    "n=int(input())\n",
    "ans=0\n",
    "while(n!=0):\n",
    "    if(n&1==1):\n",
    "        ans+=1\n",
    "    n=n>>1\n",
    "print(ans)\n",
    "\n",
    "#--end of part 1"
   ]
  },
  {
   "cell_type": "code",
   "execution_count": 4,
   "metadata": {},
   "outputs": [
    {
     "name": "stdout",
     "output_type": "stream",
     "text": [
      "7 5\n"
     ]
    }
   ],
   "source": [
    "# pick 2 single number\n",
    "arr=[2,2,4,4,5,3,3,8,8,6,6,7] # 101 xor 111 : 010\n",
    "xor=0\n",
    "for i in arr:\n",
    "    xor=xor^i\n",
    "bit_pos=0\n",
    "while(1):\n",
    "    if(xor&1!=0):\n",
    "        break\n",
    "    bit_pos+=1\n",
    "    xor=xor>>1\n",
    "\n",
    "a,b=0,0\n",
    "for i in arr:\n",
    "    if(i&(1<<bit_pos)):\n",
    "        a=a ^ i # 2 ^ 2 ^ 3 ^ 3 ^ 7 ^ 6 ^ 6 = 7\n",
    "    else:\n",
    "        b=b ^ i # 4 ^ 4 ^ 8 ^ 8 ^ 5 = 5\n",
    "print(a,b)"
   ]
  },
  {
   "cell_type": "code",
   "execution_count": null,
   "metadata": {},
   "outputs": [],
   "source": [
    "# Bit flipping\n",
    "def solve(A):\n",
    "    track=1\n",
    "    while(track<A):\n",
    "        A= A ^ track\n",
    "        # print(A,track)\n",
    "        track=track<<1\n",
    "        # print(track)\n",
    "    return A\n",
    "\n",
    "solve(5)"
   ]
  },
  {
   "cell_type": "code",
   "execution_count": 8,
   "metadata": {},
   "outputs": [
    {
     "name": "stdout",
     "output_type": "stream",
     "text": [
      "[[], [2], [3], [2, 3], [4], [2, 4], [3, 4], [2, 3, 4], [5], [2, 5], [3, 5], [2, 3, 5], [4, 5], [2, 4, 5], [3, 4, 5], [2, 3, 4, 5]]\n"
     ]
    }
   ],
   "source": [
    "# generate all subset\n",
    "arr=[2,3,4,5]\n",
    "n=len(arr)\n",
    "ans=[]\n",
    "for i in range(0,1<<n):\n",
    "    temp=[]\n",
    "    for j in range(0,n):\n",
    "        if(i& (1<<j)):\n",
    "            temp.append(arr[j])\n",
    "    ans.append(temp)\n",
    "print(ans)"
   ]
  },
  {
   "cell_type": "code",
   "execution_count": null,
   "metadata": {},
   "outputs": [],
   "source": []
  }
 ],
 "metadata": {
  "kernelspec": {
   "display_name": "Python 3",
   "language": "python",
   "name": "python3"
  },
  "language_info": {
   "codemirror_mode": {
    "name": "ipython",
    "version": 3
   },
   "file_extension": ".py",
   "mimetype": "text/x-python",
   "name": "python",
   "nbconvert_exporter": "python",
   "pygments_lexer": "ipython3",
   "version": "3.10.6"
  },
  "orig_nbformat": 4
 },
 "nbformat": 4,
 "nbformat_minor": 2
}
