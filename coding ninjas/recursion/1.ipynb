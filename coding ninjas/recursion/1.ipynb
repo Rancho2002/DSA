{
 "cells": [
  {
   "cell_type": "code",
   "execution_count": null,
   "metadata": {},
   "outputs": [],
   "source": [
    "def fact(n):\n",
    "    if(n==0):\n",
    "        return 1\n",
    "    else:\n",
    "        return n*fact(n-1)"
   ]
  },
  {
   "cell_type": "code",
   "execution_count": null,
   "metadata": {},
   "outputs": [],
   "source": [
    "n=int(input())\n",
    "print(fact(5))"
   ]
  },
  {
   "cell_type": "code",
   "execution_count": null,
   "metadata": {},
   "outputs": [],
   "source": [
    "def sumN(n):\n",
    "    if(n==0):\n",
    "        return 0\n",
    "    else:\n",
    "        return n+ sumN(n-1)"
   ]
  },
  {
   "cell_type": "code",
   "execution_count": null,
   "metadata": {},
   "outputs": [],
   "source": [
    "n=int(input())\n",
    "print(sumN(n))"
   ]
  },
  {
   "cell_type": "code",
   "execution_count": null,
   "metadata": {},
   "outputs": [],
   "source": [
    "def power(x,n):\n",
    "    if(n==0):\n",
    "        return 1\n",
    "    else:\n",
    "        return x * power(x,n-1)"
   ]
  },
  {
   "cell_type": "code",
   "execution_count": null,
   "metadata": {},
   "outputs": [],
   "source": [
    "x=int(input())\n",
    "n=int(input())\n",
    "print(power(x,n))"
   ]
  },
  {
   "cell_type": "code",
   "execution_count": null,
   "metadata": {},
   "outputs": [],
   "source": [
    "def print1_N(n):\n",
    "    if(n==0):\n",
    "        return \n",
    "    print1_N(n-1)\n",
    "    print(n)\n",
    "    return"
   ]
  },
  {
   "cell_type": "code",
   "execution_count": null,
   "metadata": {},
   "outputs": [],
   "source": [
    "print1_N(20)"
   ]
  },
  {
   "cell_type": "code",
   "execution_count": null,
   "metadata": {},
   "outputs": [],
   "source": [
    "def printN_1(n):\n",
    "    if(n==0):\n",
    "        return\n",
    "    print(n)\n",
    "    printN_1(n-1)\n",
    "        "
   ]
  },
  {
   "cell_type": "code",
   "execution_count": null,
   "metadata": {},
   "outputs": [],
   "source": [
    "printN_1(5)"
   ]
  },
  {
   "cell_type": "code",
   "execution_count": null,
   "metadata": {},
   "outputs": [],
   "source": [
    "def fibonacci(n):\n",
    "    if(n==1 or n==2):\n",
    "        return 1\n",
    "    return fibonacci(n-1)+fibonacci(n-2)"
   ]
  },
  {
   "cell_type": "code",
   "execution_count": null,
   "metadata": {},
   "outputs": [],
   "source": [
    "def fibonacciIter(n):\n",
    "    a,b=0,1\n",
    "    for i in range(1,n):\n",
    "        a=b\n",
    "        b=a+b\n",
    "    return a\n",
    "#! cholche na"
   ]
  },
  {
   "cell_type": "code",
   "execution_count": null,
   "metadata": {},
   "outputs": [],
   "source": [
    "fibonacci(5) # 1 1 2 3 5\n",
    "# fibonacciIter(5)"
   ]
  },
  {
   "cell_type": "code",
   "execution_count": null,
   "metadata": {},
   "outputs": [],
   "source": [
    "import sys\n",
    "sys.setrecursionlimit(4000)\n",
    "# fact(3000) # ! got error in max depth"
   ]
  },
  {
   "cell_type": "code",
   "execution_count": null,
   "metadata": {},
   "outputs": [],
   "source": [
    "fact(3000)"
   ]
  },
  {
   "cell_type": "code",
   "execution_count": 77,
   "metadata": {},
   "outputs": [],
   "source": [
    "def isSorted(a:list)->bool:\n",
    "    l=len(a)\n",
    "    if(l==0 or l==1):\n",
    "        return True\n",
    "    if(a[0]>a[1]):\n",
    "        return False\n",
    "    a=a[1:]\n",
    "    checkIfSorted=isSorted(a)\n",
    "    if checkIfSorted:\n",
    "        return True\n",
    "    return False"
   ]
  },
  {
   "cell_type": "code",
   "execution_count": 80,
   "metadata": {},
   "outputs": [
    {
     "data": {
      "text/plain": [
       "False"
      ]
     },
     "execution_count": 80,
     "metadata": {},
     "output_type": "execute_result"
    }
   ],
   "source": [
    "arr=[1,2,6,3,4,5]\n",
    "isSorted(arr)"
   ]
  },
  {
   "cell_type": "code",
   "execution_count": 1,
   "metadata": {},
   "outputs": [],
   "source": [
    "def sumArr(arr:list)->int:\n",
    "    if(len(arr)==1):\n",
    "        return arr[0]\n",
    "    else:\n",
    "        return arr[0]+sumArr(arr[1:])"
   ]
  },
  {
   "cell_type": "code",
   "execution_count": 3,
   "metadata": {},
   "outputs": [
    {
     "data": {
      "text/plain": [
       "210"
      ]
     },
     "execution_count": 3,
     "metadata": {},
     "output_type": "execute_result"
    }
   ],
   "source": [
    "arr=[x for x in range(21)]\n",
    "sumArr(arr)"
   ]
  },
  {
   "cell_type": "code",
   "execution_count": 38,
   "metadata": {},
   "outputs": [],
   "source": [
    "def present(arr:list,key:int)->bool:\n",
    "    l=len(arr)\n",
    "    if(l==0):\n",
    "        return False\n",
    "\n",
    "    if(l==1):\n",
    "        if(key==arr[0]):\n",
    "            return True\n",
    "        else:\n",
    "            return False\n",
    "    if(arr[0]==key):\n",
    "        return True\n",
    "    else: \n",
    "        return present(arr[1:],key)\n"
   ]
  },
  {
   "cell_type": "code",
   "execution_count": 40,
   "metadata": {},
   "outputs": [
    {
     "name": "stdout",
     "output_type": "stream",
     "text": [
      "False\n"
     ]
    }
   ],
   "source": [
    "arr=[1,2,3,5,7]\n",
    "print(present(arr,4))"
   ]
  },
  {
   "cell_type": "code",
   "execution_count": 41,
   "metadata": {},
   "outputs": [],
   "source": [
    "def isSortedBetter(arr:list,si:int)->bool:\n",
    "    #si: start index=0\n",
    "    l=len(arr)\n",
    "    if(si==l-1 or si==l):\n",
    "        return True\n",
    "    if(arr[si]>arr[si+1]):\n",
    "        return False\n",
    "    else:\n",
    "        return isSortedBetter(arr,si+1)"
   ]
  },
  {
   "cell_type": "code",
   "execution_count": 46,
   "metadata": {},
   "outputs": [
    {
     "data": {
      "text/plain": [
       "True"
      ]
     },
     "execution_count": 46,
     "metadata": {},
     "output_type": "execute_result"
    }
   ],
   "source": [
    "arr=[1,2,3,4,5]\n",
    "isSortedBetter(arr,0) \n",
    "\n",
    "# [1|2,3,4,5]\n",
    "# [1,2|3,4,5]\n",
    "# [1,2,3|4,5]\n"
   ]
  },
  {
   "cell_type": "code",
   "execution_count": 71,
   "metadata": {},
   "outputs": [],
   "source": [
    "def firstIndex(arr:list,key:int,k=-1)->int:\n",
    "    l=len(arr)\n",
    "    if(l==0):\n",
    "        return -1\n",
    "    \n",
    "    if(arr[0]==key):\n",
    "        return k+1\n",
    "    else:\n",
    "        arr=arr[1:]\n",
    "        return firstIndex(arr,key,k=k+1)\n",
    "    "
   ]
  },
  {
   "cell_type": "code",
   "execution_count": 78,
   "metadata": {},
   "outputs": [],
   "source": [
    "def firstIndex_copyless(arr:list,key:int,si=0)->int:\n",
    "    l=len(arr)\n",
    "    if(si==l or l==0):\n",
    "        return -1\n",
    "    if(arr[si]==key):\n",
    "        return si\n",
    "    else:\n",
    "        return firstIndex_copyless(arr,key,si+1)"
   ]
  },
  {
   "cell_type": "code",
   "execution_count": 80,
   "metadata": {},
   "outputs": [
    {
     "name": "stdout",
     "output_type": "stream",
     "text": [
      "14\n"
     ]
    }
   ],
   "source": [
    "arr=list(map(int,input().split()))\n",
    "# arr=[1,3]\n",
    "print(firstIndex_copyless(arr,43))"
   ]
  },
  {
   "cell_type": "code",
   "execution_count": 101,
   "metadata": {},
   "outputs": [],
   "source": [
    "def lastIndex(arr:list,key:int)->int:\n",
    "    ei=len(arr)-1\n",
    "    l=len(arr)\n",
    "    if(ei==-1 or l==0):\n",
    "        return -1\n",
    "    if(arr[ei]==key):\n",
    "        return ei\n",
    "    else:\n",
    "        ei=ei-1\n",
    "        arr=arr[:-1]\n",
    "        return lastIndex(arr,key)"
   ]
  },
  {
   "cell_type": "code",
   "execution_count": 107,
   "metadata": {},
   "outputs": [],
   "source": [
    "def lastIndexB(arr,key,s=0):\n",
    "    l=len(arr)\n",
    "    if(s==l):\n",
    "        return -1\n",
    "    smallOutput=lastIndexB(arr,key,s+1)\n",
    "    if smallOutput!=-1:\n",
    "        return smallOutput\n",
    "    else:\n",
    "        if(arr[s]==key):\n",
    "            return s\n",
    "        else:\n",
    "            return -1"
   ]
  },
  {
   "cell_type": "code",
   "execution_count": 108,
   "metadata": {},
   "outputs": [
    {
     "name": "stdout",
     "output_type": "stream",
     "text": [
      "8\n",
      "8\n"
     ]
    }
   ],
   "source": [
    "arr=[1,3,4,6,5,3,3,4,3,2]\n",
    "print(lastIndex(arr,3))\n",
    "print(lastIndexB(arr,3))\n"
   ]
  },
  {
   "cell_type": "code",
   "execution_count": 1,
   "metadata": {},
   "outputs": [],
   "source": [
    "def replaceChar(s:str,a:str,b:str)->str:\n",
    "    if(not len(s)):\n",
    "       return s\n",
    "    if(s[0]==a):\n",
    "        return b+replaceChar(s[1:],a,b)\n",
    "    else:\n",
    "        return s[0]+replaceChar(s[1:],a,b)"
   ]
  },
  {
   "cell_type": "code",
   "execution_count": 2,
   "metadata": {},
   "outputs": [
    {
     "data": {
      "text/plain": [
       "'aabxdxdxdxxx'"
      ]
     },
     "execution_count": 2,
     "metadata": {},
     "output_type": "execute_result"
    }
   ],
   "source": [
    "replaceChar(\"aabcdcdcdccc\",\"c\",\"x\")"
   ]
  },
  {
   "cell_type": "code",
   "execution_count": 1,
   "metadata": {},
   "outputs": [],
   "source": [
    "def replacePI(s:str)->str:\n",
    "    if(len(s)==0 or len(s)==1):\n",
    "        return s\n",
    "    if(s[0]=='p' and s[1]=='i'):\n",
    "        smallOutput=replacePI(s[2:])\n",
    "        return \"3.14\"+smallOutput\n",
    "    else:\n",
    "        return s[0]+replacePI(s[1:])"
   ]
  },
  {
   "cell_type": "code",
   "execution_count": 3,
   "metadata": {},
   "outputs": [
    {
     "data": {
      "text/plain": [
       "'p3.143.14korisna'"
      ]
     },
     "execution_count": 3,
     "metadata": {},
     "output_type": "execute_result"
    }
   ],
   "source": [
    "replacePI(\"ppipikorisna\")"
   ]
  },
  {
   "cell_type": "code",
   "execution_count": 1,
   "metadata": {},
   "outputs": [],
   "source": [
    "def removeCons(s:str)->str:\n",
    "    if(len(s)==0 or len(s)==1):\n",
    "        return s\n",
    "    if(s[0]==s[1]):\n",
    "        smallOutput=removeCons(s[1:])\n",
    "        return \"\"+smallOutput\n",
    "    else:\n",
    "        return s[0]+removeCons(s[1:])\n"
   ]
  },
  {
   "cell_type": "code",
   "execution_count": 4,
   "metadata": {},
   "outputs": [
    {
     "data": {
      "text/plain": [
       "'abac'"
      ]
     },
     "execution_count": 4,
     "metadata": {},
     "output_type": "execute_result"
    }
   ],
   "source": [
    "removeCons(\"aabac\")"
   ]
  },
  {
   "cell_type": "code",
   "execution_count": 7,
   "metadata": {},
   "outputs": [],
   "source": [
    "def binarySearch(arr:list,x:int,s:int,e:int)->int:\n",
    "    if(s>e):\n",
    "        return -1\n",
    "    else:\n",
    "        mid=(s+e)//2\n",
    "        if(arr[mid]==x):\n",
    "            return mid\n",
    "        elif(arr[mid]>x):\n",
    "            return binarySearch(arr,x,s,mid-1)\n",
    "        else:\n",
    "            return binarySearch(arr,x,mid+1,e)"
   ]
  },
  {
   "cell_type": "code",
   "execution_count": 10,
   "metadata": {},
   "outputs": [
    {
     "data": {
      "text/plain": [
       "-1"
      ]
     },
     "execution_count": 10,
     "metadata": {},
     "output_type": "execute_result"
    }
   ],
   "source": [
    "binarySearch([1,2,3,4,5,6,7],10,0,6) # e value must be len(arr)-1"
   ]
  },
  {
   "cell_type": "code",
   "execution_count": null,
   "metadata": {},
   "outputs": [],
   "source": []
  }
 ],
 "metadata": {
  "kernelspec": {
   "display_name": "Python 3",
   "language": "python",
   "name": "python3"
  },
  "language_info": {
   "codemirror_mode": {
    "name": "ipython",
    "version": 3
   },
   "file_extension": ".py",
   "mimetype": "text/x-python",
   "name": "python",
   "nbconvert_exporter": "python",
   "pygments_lexer": "ipython3",
   "version": "3.10.6"
  },
  "orig_nbformat": 4
 },
 "nbformat": 4,
 "nbformat_minor": 2
}
