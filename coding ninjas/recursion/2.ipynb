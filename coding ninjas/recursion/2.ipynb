{
 "cells": [
  {
   "cell_type": "code",
   "execution_count": 20,
   "metadata": {},
   "outputs": [],
   "source": [
    "def merge(left:list,right:list,arr:list)->None:\n",
    "    i=0\n",
    "    j=0\n",
    "    k=0\n",
    "    while i<len(left) and j<len(right):\n",
    "        if(left[i]<right[j]):\n",
    "            arr[k]=left[i]\n",
    "            i+=1\n",
    "            k+=1\n",
    "        else:\n",
    "            arr[k]=right[j]\n",
    "            j+=1\n",
    "            k+=1\n",
    "    while i <len(left):\n",
    "        arr[k]=left[i]\n",
    "        i+=1\n",
    "        k+=1\n",
    "    \n",
    "    while j <len(right):\n",
    "        arr[k]=right[j]\n",
    "        j+=1\n",
    "        k+=1"
   ]
  },
  {
   "cell_type": "code",
   "execution_count": 21,
   "metadata": {},
   "outputs": [],
   "source": [
    "def merge_sort(arr:list)->None:\n",
    "    if(len(arr)==0 or len(arr)==1):\n",
    "        return\n",
    "    mid=len(arr)//2\n",
    "    left=arr[0:mid]\n",
    "    right=arr[mid:]\n",
    "    merge_sort(left)\n",
    "    merge_sort(right)\n",
    "    merge(left,right,arr)"
   ]
  },
  {
   "cell_type": "code",
   "execution_count": 22,
   "metadata": {},
   "outputs": [
    {
     "data": {
      "text/plain": [
       "[-3, 0, 1, 2, 3, 5, 6, 9]"
      ]
     },
     "execution_count": 22,
     "metadata": {},
     "output_type": "execute_result"
    }
   ],
   "source": [
    "arr=[5,3,2,6,1,0,9,-3]\n",
    "merge_sort(arr)\n",
    "arr"
   ]
  },
  {
   "cell_type": "code",
   "execution_count": 23,
   "metadata": {},
   "outputs": [],
   "source": [
    "def partition(arr:list,si:int,ei:int)->int:\n",
    "\n",
    "    pivot_elem=arr[si]\n",
    "    count=0\n",
    "    for i in range(si,ei+1):\n",
    "        if(arr[i]<pivot_elem):\n",
    "            count+=1\n",
    "\n",
    "    pivot_index=si+count\n",
    "\n",
    "    arr[si],arr[pivot_index]=arr[pivot_index],arr[si] # making position of pivot perfext\n",
    "\n",
    "    while(si<ei):\n",
    "        if(arr[si]<pivot_elem):\n",
    "            si+=1\n",
    "        elif(arr[ei]>pivot_elem):\n",
    "            ei-=1\n",
    "        else:\n",
    "            arr[si],arr[ei]=arr[ei],arr[si]\n",
    "            si+=1\n",
    "            ei-=1\n",
    "            \n",
    "    return pivot_index\n"
   ]
  },
  {
   "cell_type": "code",
   "execution_count": 24,
   "metadata": {},
   "outputs": [],
   "source": [
    "def quicksort(arr:list,si:int,ei:int):\n",
    "    if(si>=ei):\n",
    "        return \n",
    "    pivot_index=partition(arr,si,ei)\n",
    "    quicksort(arr,si,pivot_index-1)\n",
    "    quicksort(arr,pivot_index+1,ei)\n",
    "    "
   ]
  },
  {
   "cell_type": "code",
   "execution_count": 25,
   "metadata": {},
   "outputs": [
    {
     "data": {
      "text/plain": [
       "[-3, 0, 1, 2, 2, 3, 5, 6, 7, 8, 9]"
      ]
     },
     "execution_count": 25,
     "metadata": {},
     "output_type": "execute_result"
    }
   ],
   "source": [
    "arr=[5,2,8,9,3,1,7,6,2,-3,0]\n",
    "ei=len(arr)-1\n",
    "\n",
    "quicksort(arr,0,ei)\n",
    "arr\n"
   ]
  },
  {
   "cell_type": "code",
   "execution_count": 35,
   "metadata": {},
   "outputs": [],
   "source": [
    "def tower_of_hanoi(n:int,source:str,helper:str,dest:str):\n",
    "    if(n==1):\n",
    "        print(f\"Move disk 1 from {source} to {dest}\")\n",
    "        return\n",
    "\n",
    "    tower_of_hanoi(n-1,source,dest,helper) #! move n-1 disk from source to helper using destination (assumption)\n",
    "    print(f\"move disk {n} from {source} to {dest}\")\n",
    "    tower_of_hanoi(n-1,helper,source, dest) #! now move n-1 disk from helper to destination using source"
   ]
  },
  {
   "cell_type": "code",
   "execution_count": 39,
   "metadata": {},
   "outputs": [
    {
     "name": "stdout",
     "output_type": "stream",
     "text": [
      "Move disk 1 from source to destination\n",
      "move disk 2 from source to helper\n",
      "Move disk 1 from destination to helper\n",
      "move disk 3 from source to destination\n",
      "Move disk 1 from helper to source\n",
      "move disk 2 from helper to destination\n",
      "Move disk 1 from source to destination\n"
     ]
    }
   ],
   "source": [
    "tower_of_hanoi(3,\"source\",\"helper\",\"destination\")"
   ]
  },
  {
   "cell_type": "code",
   "execution_count": 40,
   "metadata": {},
   "outputs": [
    {
     "name": "stdout",
     "output_type": "stream",
     "text": [
      "1000000001\n"
     ]
    }
   ],
   "source": [
    "# n=0\n",
    "# while n<=1000000000:\n",
    "#     n+=1\n",
    "# print(n)"
   ]
  },
  {
   "cell_type": "code",
   "execution_count": 52,
   "metadata": {},
   "outputs": [
    {
     "name": "stdout",
     "output_type": "stream",
     "text": [
      "4\n",
      "0\n"
     ]
    }
   ],
   "source": [
    "n=int(input())\n",
    "\n",
    "n=bin(n)\n",
    "n=n[2:]\n",
    "ans=\"\"\n",
    "for i in range(len(n)):\n",
    "    if(n[i]=='0'):\n",
    "        ans+='1'\n",
    "    else:\n",
    "        ans+='0'\n",
    "print(ans)"
   ]
  },
  {
   "cell_type": "code",
   "execution_count": 2,
   "metadata": {},
   "outputs": [
    {
     "data": {
      "text/plain": [
       "4"
      ]
     },
     "execution_count": 2,
     "metadata": {},
     "output_type": "execute_result"
    }
   ],
   "source": [
    "def factorial(n:int)->int:\n",
    "    p=1\n",
    "    for i in range(1,n+1):\n",
    "        p=p*i\n",
    "    return p\n",
    "\n",
    "class Solution:\n",
    "    # @param A : integer\n",
    "    # @return an integer\n",
    "    def solve(self, A):\n",
    "        mod=10**9 + 7\n",
    "        if A==1:\n",
    "            return 2\n",
    "        return (factorial(A)*2)%mod\n",
    "    \n",
    "a=Solution()\n",
    "a.solve(2)"
   ]
  },
  {
   "cell_type": "code",
   "execution_count": null,
   "metadata": {},
   "outputs": [],
   "source": [
    "def grt(x:dict):\n",
    "    return x[\"day\"]\n",
    "a={\n",
    "    \"day\":20,\n",
    "    \"year\":2002\n",
    "}\n",
    "b={\n",
    "    \"day\":10,\n",
    "    \"year\":2004\n",
    "}\n",
    "c={\n",
    "    \"day\":5,\n",
    "    \"year\":2001\n",
    "}\n",
    "\n"
   ]
  }
 ],
 "metadata": {
  "kernelspec": {
   "display_name": "Python 3",
   "language": "python",
   "name": "python3"
  },
  "language_info": {
   "codemirror_mode": {
    "name": "ipython",
    "version": 3
   },
   "file_extension": ".py",
   "mimetype": "text/x-python",
   "name": "python",
   "nbconvert_exporter": "python",
   "pygments_lexer": "ipython3",
   "version": "3.10.6"
  },
  "orig_nbformat": 4
 },
 "nbformat": 4,
 "nbformat_minor": 2
}
