{
 "cells": [
  {
   "cell_type": "code",
   "execution_count": 11,
   "metadata": {},
   "outputs": [],
   "source": [
    "import math\n",
    "\n",
    "class Solution:\n",
    "    # @param A : tuple of integers\n",
    "    # @return an integer\n",
    "    def majorityElement(self, A):\n",
    "        flag = 1\n",
    "        element = A[0]\n",
    "        \n",
    "        for i in range(1, len(A)):\n",
    "            if flag == 0:\n",
    "                element = A[i]\n",
    "                flag = 1\n",
    "            elif element == A[i]:\n",
    "                flag += 1\n",
    "            else:\n",
    "                flag -= 1\n",
    "        \n",
    "        count = 0\n",
    "        \n",
    "        for i in range(len(A)):\n",
    "            if A[i] == element:\n",
    "                count += 1\n",
    "                if count >= math.floor(len(A)/2) + 1:\n",
    "                    return element\n"
   ]
  },
  {
   "cell_type": "code",
   "execution_count": 15,
   "metadata": {},
   "outputs": [
    {
     "name": "stdout",
     "output_type": "stream",
     "text": [
      "[{'date': 3, 'year': 2002}, {'date': 7, 'year': 2010}, {'date': 12, 'year': 1998}, {'date': 25, 'year': 2005}]\n"
     ]
    }
   ],
   "source": [
    "a, b, c, d={\"date\": 3, \"year\": 2002}, {\"date\": 12, \"year\": 1998}, {\"date\": 7, \"year\": 2010}, {\"date\": 25, \"year\": 2005}\n",
    "itr=[a, b, c, d]\n",
    "itr.sort(key=lambda x: x[\"date\"])\n",
    "print(itr)"
   ]
  },
  {
   "cell_type": "code",
   "execution_count": 5,
   "metadata": {},
   "outputs": [
    {
     "data": {
      "text/plain": [
       "[3, 1, 4]"
      ]
     },
     "execution_count": 5,
     "metadata": {},
     "output_type": "execute_result"
    }
   ],
   "source": [
    "def swap(arr, i, j):\n",
    "    arr[i], arr[j] = arr[j], arr[i]\n",
    "\n",
    "arr = [1, 3, 4]\n",
    "swap(arr, 0, 1)\n",
    "\n",
    "# arr[0],arr[1]=arr[1],arr[0]\n",
    "arr"
   ]
  },
  {
   "cell_type": "code",
   "execution_count": 9,
   "metadata": {},
   "outputs": [
    {
     "data": {
      "text/plain": [
       "3"
      ]
     },
     "execution_count": 9,
     "metadata": {},
     "output_type": "execute_result"
    }
   ],
   "source": [
    "def swap(a, b):\n",
    "    return (b, a)\n",
    "\n",
    "a = 4\n",
    "b = 3\n",
    "a, b = swap(a, b)\n",
    "a,b"
   ]
  }
 ],
 "metadata": {
  "kernelspec": {
   "display_name": "Python 3",
   "language": "python",
   "name": "python3"
  },
  "language_info": {
   "codemirror_mode": {
    "name": "ipython",
    "version": 3
   },
   "file_extension": ".py",
   "mimetype": "text/x-python",
   "name": "python",
   "nbconvert_exporter": "python",
   "pygments_lexer": "ipython3",
   "version": "3.10.6"
  },
  "orig_nbformat": 4
 },
 "nbformat": 4,
 "nbformat_minor": 2
}
