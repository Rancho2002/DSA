{
 "cells": [
  {
   "cell_type": "code",
   "execution_count": 11,
   "metadata": {},
   "outputs": [],
   "source": [
    "import math\n",
    "\n",
    "class Solution:\n",
    "    # @param A : tuple of integers\n",
    "    # @return an integer\n",
    "    def majorityElement(self, A):\n",
    "        flag = 1\n",
    "        element = A[0]\n",
    "        \n",
    "        for i in range(1, len(A)):\n",
    "            if flag == 0:\n",
    "                element = A[i]\n",
    "                flag = 1\n",
    "            elif element == A[i]:\n",
    "                flag += 1\n",
    "            else:\n",
    "                flag -= 1\n",
    "        \n",
    "        count = 0\n",
    "        \n",
    "        for i in range(len(A)):\n",
    "            if A[i] == element:\n",
    "                count += 1\n",
    "                if count >= math.floor(len(A)/2) + 1:\n",
    "                    return element\n"
   ]
  },
  {
   "cell_type": "code",
   "execution_count": 15,
   "metadata": {},
   "outputs": [
    {
     "name": "stdout",
     "output_type": "stream",
     "text": [
      "[{'date': 3, 'year': 2002}, {'date': 7, 'year': 2010}, {'date': 12, 'year': 1998}, {'date': 25, 'year': 2005}]\n"
     ]
    }
   ],
   "source": [
    "a, b, c, d={\"date\": 3, \"year\": 2002}, {\"date\": 12, \"year\": 1998}, {\"date\": 7, \"year\": 2010}, {\"date\": 25, \"year\": 2005}\n",
    "itr=[a, b, c, d]\n",
    "itr.sort(key=lambda x: x[\"date\"])\n",
    "print(itr)"
   ]
  }
 ],
 "metadata": {
  "kernelspec": {
   "display_name": "Python 3",
   "language": "python",
   "name": "python3"
  },
  "language_info": {
   "codemirror_mode": {
    "name": "ipython",
    "version": 3
   },
   "file_extension": ".py",
   "mimetype": "text/x-python",
   "name": "python",
   "nbconvert_exporter": "python",
   "pygments_lexer": "ipython3",
   "version": "3.10.6"
  },
  "orig_nbformat": 4
 },
 "nbformat": 4,
 "nbformat_minor": 2
}
