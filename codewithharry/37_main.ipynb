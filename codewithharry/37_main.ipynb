{
 "cells": [
  {
   "cell_type": "code",
   "execution_count": 12,
   "metadata": {},
   "outputs": [
    {
     "name": "stdout",
     "output_type": "stream",
     "text": [
      "01_harryin_postfix.c\n",
      "02_infix_postfix.c\n",
      "03_multipleparenthesis.c\n",
      "04_multiple_cwh.c\n",
      "05_parenthesis_stack.c\n",
      "06_stackTop_Bottom.c\n",
      "07_stack_peek.c\n",
      "08_stack_peek_OWN.c\n",
      "09_circular.drawio\n",
      "10_linear_binarySearch.c\n",
      "11_arrDeletion.c\n",
      "12_linkedList.c\n",
      "13_arrayADT.c\n",
      "14_doublyLinkedList.c\n",
      "15_linked_rep_binaryTree.c\n",
      "16_stack-with-push_pop.c\n",
      "17_new.c\n",
      "18_notes\n",
      "19_circularQueue.c\n",
      "20_singlyLinkedlist.c\n",
      "21_doubly-linked-list.c\n",
      "22_polynomialMultiply.c\n",
      "23_inorder.c\n",
      "24_preorder.c\n",
      "25_postorder.c\n",
      "26_viva.zip\n",
      "27_polynomial-add.c\n",
      "28_maximum-min=linkedlist.c\n",
      "29_delete-node-doubly.c\n",
      "30_priority-queue.c\n",
      "31_stack-by-array.c\n",
      "32_queue-using-arr.c\n",
      "33_stack-using-linked-list.c\n",
      "34_queue-using-linkedlist.c\n",
      "35_linked-list-insertion.c\n",
      "36_heapsort\n",
      "37_sorting\n"
     ]
    }
   ],
   "source": [
    "import os\n",
    "from math import log10\n",
    "\n",
    "files=os.listdir(\".\")\n",
    "\n",
    "files.sort(key=lambda x: os.path.getmtime(x))\n",
    "# print(files) # list index 0 hold the oldest file\n",
    "digits=int(log10(len(files)))+1\n",
    "\n",
    "rename=0\n",
    "\n",
    "for i in range(len(files)-1):\n",
    "    if(files[i][0]==\".\"):\n",
    "        rename-=1\n",
    "        continue\n",
    "\n",
    "    if \"_\" in files[i] and files[i][0]!=\"_\":\n",
    "        index=files[i].find(\"_\")\n",
    "        isNum=files[index-1]\n",
    "    \n",
    "        if(isNum >=\"0\" and isNum<=\"9\"):\n",
    "            oldName=files[i][index+1:]\n",
    "        else:\n",
    "            oldName=files[i]\n",
    "    else:\n",
    "        oldName=files[i]\n",
    "\n",
    "    rename+=1\n",
    "    \n",
    "    newfile_name=f\"{str(rename+1).zfill(digits)}_{oldName}\"\n",
    "    # os.rename(files[i],newfile_name)\n",
    "    print(newfile_name)\n",
    "    # print(oldName)\n"
   ]
  }
 ],
 "metadata": {
  "kernelspec": {
   "display_name": "Python 3",
   "language": "python",
   "name": "python3"
  },
  "language_info": {
   "codemirror_mode": {
    "name": "ipython",
    "version": 3
   },
   "file_extension": ".py",
   "mimetype": "text/x-python",
   "name": "python",
   "nbconvert_exporter": "python",
   "pygments_lexer": "ipython3",
   "version": "3.10.6"
  },
  "orig_nbformat": 4
 },
 "nbformat": 4,
 "nbformat_minor": 2
}
