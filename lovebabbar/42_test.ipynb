{
 "cells": [
  {
   "cell_type": "code",
   "execution_count": 3,
   "metadata": {},
   "outputs": [
    {
     "data": {
      "text/plain": [
       "'111'"
      ]
     },
     "execution_count": 3,
     "metadata": {},
     "output_type": "execute_result"
    }
   ],
   "source": [
    "class Solution:\n",
    "\t# @param A : string\n",
    "\t# @param B : string\n",
    "\t# @return a strings\n",
    "\tdef addBinary(self, A, B):\n",
    "            A=int(A,2)\n",
    "            B=int(B,2)\n",
    "            ans=bin(A+B)\n",
    "            return ans[2:]\n",
    "        \n",
    "a=Solution()\n",
    "a.addBinary(\"100\",\"11\")"
   ]
  },
  {
   "cell_type": "code",
   "execution_count": 10,
   "metadata": {},
   "outputs": [
    {
     "name": "stdout",
     "output_type": "stream",
     "text": [
      "1 0\n",
      "11\n"
     ]
    }
   ],
   "source": [
    "a=input()\n",
    "b=input()\n",
    "i,j=0,0\n",
    "n,m=len(a),len(b)\n",
    "ans=\"\"\n",
    "carry=\"0\"\n",
    "while(i<n and j<m):\n",
    "    if(a[i]==\"0\" and b[j]==\"0\" and carry==\"0\"):\n",
    "        ans+=\"0\"\n",
    "    elif(a[i]==\"1\" and b[j]==\"0\" or a[i]==\"0\" and b[j]==\"1\" and carry==\"0\"):\n",
    "        ans+=\"1\"\n",
    "    elif(a[i]==\"1\" and b[j]==\"0\" or a[i]==\"0\" and b[j]==\"1\" and carry==\"1\"):\n",
    "        ans+=\"1\"\n",
    "        carry=\"1\"\n",
    "    else:\n",
    "        ans+=\"0\"\n",
    "        carry=\"1\"\n",
    "    i+=1\n",
    "    j+=1\n",
    "\n",
    "# print(ans, carry) #11\n",
    "while(i<n):\n",
    "    if(a[i]==\"1\" and carry==\"1\"):\n",
    "        ans+=\"1\"\n",
    "        carry=\"1\"\n",
    "    elif(a[i]==\"1\" and carry==\"0\"):\n",
    "        ans+=\"1\"\n",
    "        carry=\"0\"\n",
    "    else:\n",
    "        ans+=a[i]\n",
    "    \n",
    "    i+=1\n",
    "\n",
    "while(j<m):\n",
    "    if(a[j]==\"1\" and carry==\"1\"):\n",
    "        ans+=\"1\"\n",
    "        carry=\"1\"\n",
    "    elif(a[j]==\"1\" and carry==\"0\"):\n",
    "        ans+=\"1\"\n",
    "        carry=\"0\"\n",
    "    else:\n",
    "        ans+=a[j]\n",
    "    j+=1\n",
    "\n",
    "while(carry!=\"0\"):\n",
    "    ans+=\"1\"\n",
    "    carry=\"0\"\n",
    "\n",
    "print(ans)"
   ]
  },
  {
   "cell_type": "code",
   "execution_count": 23,
   "metadata": {},
   "outputs": [
    {
     "data": {
      "text/plain": [
       "1669216686.4914038"
      ]
     },
     "execution_count": 23,
     "metadata": {},
     "output_type": "execute_result"
    }
   ],
   "source": [
    "\n",
    "import os\n",
    "import datetime\n",
    "\n",
    "l=os.listdir(\".\")\n",
    "\n",
    "def datestamp(file):\n",
    "    return os.path.getmtime(file)\n",
    "\n",
    "\n",
    "l.sort(key=datestamp)\n",
    "\n",
    "# os.path.getmtime(l[0])"
   ]
  },
  {
   "cell_type": "code",
   "execution_count": 30,
   "metadata": {},
   "outputs": [
    {
     "name": "stdout",
     "output_type": "stream",
     "text": [
      "43_lec4_2-4.py\n",
      "42_lec3_dabang.py\n",
      "41_a.exe\n",
      "40_lec4_Bitwise.py\n",
      "39_lec3_37-23.py\n",
      "38_sumofall.cpp\n",
      "37_linearSearch.cpp\n",
      "36_reverseArr.cpp\n",
      "35_swapAlternate.py\n",
      "34_swapAlternate.cpp\n",
      "33_findunique.py\n",
      "32_duplicateinArr.py\n",
      "31_allDuplicate.py\n",
      "30_two-pointer-findintersection.py\n",
      "29_triplets.py\n",
      "28_check.py\n",
      "27_pairSum.py\n",
      "26_findTriplets.py\n",
      "25_sort0-1.py\n",
      "24_binarySearch.py\n",
      "23_first&last.py\n",
      "22_tower.py\n",
      "21_peak-index.py\n",
      "20_findPivot.py\n",
      "19_pivotBabbar.py\n",
      "18_search-rotated-array.py\n",
      "17_sqrtFind.py\n",
      "16_bookAllocate.py\n",
      "15_bookAllocateII.py\n",
      "14_aggresiveCow.py\n",
      "13_paintersProblem.py\n",
      "12_stl\n",
      "11_sumTwoArr.py\n",
      "10_reversearr.py\n",
      "09_a.cpp\n",
      "08_a\n",
      "07_reverseStr.py\n",
      "06_lowerChar.py\n",
      "05_checkPalindrome.py\n",
      "04_occurChr.py\n",
      "03_lessons.txt\n",
      "02_lec8_switch.py\n",
      "01_test.ipynb\n"
     ]
    }
   ],
   "source": [
    "import os\n",
    "from math import log10\n",
    "\n",
    "files=os.listdir(\".\")\n",
    "\n",
    "files.sort(key=lambda x: os.path.getmtime(x))\n",
    "\n",
    "files.reverse()\n",
    "\n",
    "digits=int(log10(len(files)))+1\n",
    "\n",
    "for i in range(len(files)-1,-1,-1):\n",
    "    newfile_name=f\"{str(i+1).zfill(digits)}_{files[i]}\"\n",
    "    os.rename(files[i],newfile_name)\n",
    "    # print(newfile_name)\n"
   ]
  }
 ],
 "metadata": {
  "kernelspec": {
   "display_name": "Python 3",
   "language": "python",
   "name": "python3"
  },
  "language_info": {
   "codemirror_mode": {
    "name": "ipython",
    "version": 3
   },
   "file_extension": ".py",
   "mimetype": "text/x-python",
   "name": "python",
   "nbconvert_exporter": "python",
   "pygments_lexer": "ipython3",
   "version": "3.10.6"
  },
  "orig_nbformat": 4
 },
 "nbformat": 4,
 "nbformat_minor": 2
}
