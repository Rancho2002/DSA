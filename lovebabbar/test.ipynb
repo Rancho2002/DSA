{
 "cells": [
  {
   "cell_type": "code",
   "execution_count": 3,
   "metadata": {},
   "outputs": [
    {
     "data": {
      "text/plain": [
       "'111'"
      ]
     },
     "execution_count": 3,
     "metadata": {},
     "output_type": "execute_result"
    }
   ],
   "source": [
    "class Solution:\n",
    "\t# @param A : string\n",
    "\t# @param B : string\n",
    "\t# @return a strings\n",
    "\tdef addBinary(self, A, B):\n",
    "            A=int(A,2)\n",
    "            B=int(B,2)\n",
    "            ans=bin(A+B)\n",
    "            return ans[2:]\n",
    "        \n",
    "a=Solution()\n",
    "a.addBinary(\"100\",\"11\")"
   ]
  },
  {
   "cell_type": "code",
   "execution_count": 10,
   "metadata": {},
   "outputs": [
    {
     "name": "stdout",
     "output_type": "stream",
     "text": [
      "1 0\n",
      "11\n"
     ]
    }
   ],
   "source": [
    "a=input()\n",
    "b=input()\n",
    "i,j=0,0\n",
    "n,m=len(a),len(b)\n",
    "ans=\"\"\n",
    "carry=\"0\"\n",
    "while(i<n and j<m):\n",
    "    if(a[i]==\"0\" and b[j]==\"0\" and carry==\"0\"):\n",
    "        ans+=\"0\"\n",
    "    elif(a[i]==\"1\" and b[j]==\"0\" or a[i]==\"0\" and b[j]==\"1\" and carry==\"0\"):\n",
    "        ans+=\"1\"\n",
    "    elif(a[i]==\"1\" and b[j]==\"0\" or a[i]==\"0\" and b[j]==\"1\" and carry==\"1\"):\n",
    "        ans+=\"1\"\n",
    "        carry=\"1\"\n",
    "    else:\n",
    "        ans+=\"0\"\n",
    "        carry=\"1\"\n",
    "    i+=1\n",
    "    j+=1\n",
    "\n",
    "# print(ans, carry) #11\n",
    "while(i<n):\n",
    "    if(a[i]==\"1\" and carry==\"1\"):\n",
    "        ans+=\"1\"\n",
    "        carry=\"1\"\n",
    "    elif(a[i]==\"1\" and carry==\"0\"):\n",
    "        ans+=\"1\"\n",
    "        carry=\"0\"\n",
    "    else:\n",
    "        ans+=a[i]\n",
    "    \n",
    "    i+=1\n",
    "\n",
    "while(j<m):\n",
    "    if(a[j]==\"1\" and carry==\"1\"):\n",
    "        ans+=\"1\"\n",
    "        carry=\"1\"\n",
    "    elif(a[j]==\"1\" and carry==\"0\"):\n",
    "        ans+=\"1\"\n",
    "        carry=\"0\"\n",
    "    else:\n",
    "        ans+=a[j]\n",
    "    j+=1\n",
    "\n",
    "while(carry!=\"0\"):\n",
    "    ans+=\"1\"\n",
    "    carry=\"0\"\n",
    "\n",
    "print(ans)"
   ]
  },
  {
   "cell_type": "code",
   "execution_count": 23,
   "metadata": {},
   "outputs": [
    {
     "data": {
      "text/plain": [
       "1669216686.4914038"
      ]
     },
     "execution_count": 23,
     "metadata": {},
     "output_type": "execute_result"
    }
   ],
   "source": [
    "import os\n",
    "from math import log10\n",
    "\n",
    "files=os.listdir(\".\")\n",
    "\n",
    "files.sort(key=lambda x: os.path.getmtime(x))\n",
    "# print(files) # list index 0 hold the oldest file\n",
    "digits=int(log10(len(files)))+1\n",
    "\n",
    "for i in range(1,len(files)):\n",
    "    newfile_name=f\"{str(i).zfill(digits)}_{files[i]}\"\n",
    "    os.rename(files[i],newfile_name)\n",
    "    # print(newfile_name)\n"
   ]
  },
  {
   "cell_type": "code",
   "execution_count": 2,
   "metadata": {},
   "outputs": [
    {
     "name": "stdout",
     "output_type": "stream",
     "text": [
      "2\n"
     ]
    }
   ],
   "source": [
    "l=[[1,0],[2,0]]\n",
    "# print(len(l))\n",
    "m=0\n",
    "r=0\n",
    "ans=0\n",
    "for i in range(len(l)):\n",
    "    total=r*l[i][0]\n",
    "    package=l[i][1]\n",
    "    rest=package-total\n",
    "    if(rest>m):\n",
    "        ans+=rest\n",
    "print(ans)\n"
   ]
  },
  {
   "cell_type": "code",
   "execution_count": null,
   "metadata": {},
   "outputs": [],
   "source": [
    "class Solution:\n",
    "    def compress(self, chars: list[str]) -> int:\n",
    "        arr=[0]*26\n",
    "        for i in chars:\n",
    "            index=ord(i)-ord(\"a\")\n",
    "            arr[index]+=1\n",
    "        \n",
    "        ans=[]\n",
    "        for i in chars:\n",
    "            ans.append(i)\n",
    "            index=ord(i)-ord(\"a\")\n",
    "            if(arr[index]>1):\n",
    "                ans.append(arr[index])\n",
    "\n",
    "        return ans"
   ]
  },
  {
   "cell_type": "code",
   "execution_count": 10,
   "metadata": {},
   "outputs": [
    {
     "name": "stdout",
     "output_type": "stream",
     "text": [
      "01_lec4_2-4.py\n",
      "02_lec3_dabang.py\n",
      "03_lec4_Bitwise.py\n",
      "04_lec3_37-23.py\n",
      "05_sumofall.cpp\n",
      "06_linearSearch.cpp\n",
      "07_reverseArr.cpp\n",
      "08_swapAlternate.py\n",
      "09_swapAlternate.cpp\n",
      "10_findunique.py\n",
      "11_duplicateinArr.py\n",
      "12_allDuplicate.py\n",
      "13_two-pointer-findintersection.py\n",
      "14_triplets.py\n",
      "15_check.py\n",
      "16_pairSum.py\n",
      "17_findTriplets.py\n",
      "18_sort0-1.py\n",
      "19_binarySearch.py\n",
      "20_first&last.py\n",
      "21_tower.py\n",
      "22_peak-index.py\n",
      "23_findPivot.py\n",
      "24_pivotBabbar.py\n",
      "25_search-rotated-array.py\n",
      "26_sqrtFind.py\n",
      "27_bookAllocate.py\n",
      "28_bookAllocateII.py\n",
      "29_aggresiveCow.py\n",
      "30_paintersProblem.py\n",
      "31_stl\n",
      "32_sumTwoArr.py\n",
      "33_reversearr.py\n",
      "34_a.cpp\n",
      "35_a\n",
      "36_reverseStr.py\n",
      "37_lowerChar.py\n",
      "38_checkPalindrome.py\n",
      "39_occurChr.py\n",
      "40_lessons.txt\n",
      "41_lec8_switch.py\n",
      "42_test.ipynb\n"
     ]
    }
   ],
   "source": [
    "import os\n",
    "from math import log10\n",
    "\n",
    "files=os.listdir(\".\")\n",
    "\n",
    "files.sort(key=lambda x: os.path.getmtime(x))\n",
    "# print(files) # list index 0 hold the oldest file\n",
    "digits=int(log10(len(files)))+1\n",
    "\n",
    "for i in range(len(files)-1):\n",
    "    \n",
    "    if \"_\" in files[i] and files[0]!=\"_\":\n",
    "        index=files[i].find(\"_\")\n",
    "        isNum=files[index-1]\n",
    "    \n",
    "        if(isNum >=\"0\" and isNum<=\"9\"):\n",
    "            oldName=files[i][index+1:]\n",
    "        else:\n",
    "            oldName=files[i]\n",
    "    else:\n",
    "        oldName=files[i]\n",
    "\n",
    "    \n",
    "    newfile_name=f\"{str(i+1).zfill(digits)}_{oldName}\"\n",
    "    # os.rename(files[i],newfile_name)\n",
    "    # print(newfile_name)\n",
    "    print(newfile_name)\n"
   ]
  }
 ],
 "metadata": {
  "kernelspec": {
   "display_name": "Python 3",
   "language": "python",
   "name": "python3"
  },
  "language_info": {
   "codemirror_mode": {
    "name": "ipython",
    "version": 3
   },
   "file_extension": ".py",
   "mimetype": "text/x-python",
   "name": "python",
   "nbconvert_exporter": "python",
   "pygments_lexer": "ipython3",
   "version": "3.10.6"
  },
  "orig_nbformat": 4
 },
 "nbformat": 4,
 "nbformat_minor": 2
}
