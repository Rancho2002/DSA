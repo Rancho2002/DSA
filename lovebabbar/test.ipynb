{
 "cells": [
  {
   "cell_type": "code",
   "execution_count": 3,
   "metadata": {},
   "outputs": [
    {
     "data": {
      "text/plain": [
       "'111'"
      ]
     },
     "execution_count": 3,
     "metadata": {},
     "output_type": "execute_result"
    }
   ],
   "source": [
    "class Solution:\n",
    "\t# @param A : string\n",
    "\t# @param B : string\n",
    "\t# @return a strings\n",
    "\tdef addBinary(self, A, B):\n",
    "            A=int(A,2)\n",
    "            B=int(B,2)\n",
    "            ans=bin(A+B)\n",
    "            return ans[2:]\n",
    "        \n",
    "a=Solution()\n",
    "a.addBinary(\"100\",\"11\")"
   ]
  },
  {
   "cell_type": "code",
   "execution_count": 10,
   "metadata": {},
   "outputs": [
    {
     "name": "stdout",
     "output_type": "stream",
     "text": [
      "1 0\n",
      "11\n"
     ]
    }
   ],
   "source": [
    "a=input()\n",
    "b=input()\n",
    "i,j=0,0\n",
    "n,m=len(a),len(b)\n",
    "ans=\"\"\n",
    "carry=\"0\"\n",
    "while(i<n and j<m):\n",
    "    if(a[i]==\"0\" and b[j]==\"0\" and carry==\"0\"):\n",
    "        ans+=\"0\"\n",
    "    elif(a[i]==\"1\" and b[j]==\"0\" or a[i]==\"0\" and b[j]==\"1\" and carry==\"0\"):\n",
    "        ans+=\"1\"\n",
    "    elif(a[i]==\"1\" and b[j]==\"0\" or a[i]==\"0\" and b[j]==\"1\" and carry==\"1\"):\n",
    "        ans+=\"1\"\n",
    "        carry=\"1\"\n",
    "    else:\n",
    "        ans+=\"0\"\n",
    "        carry=\"1\"\n",
    "    i+=1\n",
    "    j+=1\n",
    "\n",
    "# print(ans, carry) #11\n",
    "while(i<n):\n",
    "    if(a[i]==\"1\" and carry==\"1\"):\n",
    "        ans+=\"1\"\n",
    "        carry=\"1\"\n",
    "    elif(a[i]==\"1\" and carry==\"0\"):\n",
    "        ans+=\"1\"\n",
    "        carry=\"0\"\n",
    "    else:\n",
    "        ans+=a[i]\n",
    "    \n",
    "    i+=1\n",
    "\n",
    "while(j<m):\n",
    "    if(a[j]==\"1\" and carry==\"1\"):\n",
    "        ans+=\"1\"\n",
    "        carry=\"1\"\n",
    "    elif(a[j]==\"1\" and carry==\"0\"):\n",
    "        ans+=\"1\"\n",
    "        carry=\"0\"\n",
    "    else:\n",
    "        ans+=a[j]\n",
    "    j+=1\n",
    "\n",
    "while(carry!=\"0\"):\n",
    "    ans+=\"1\"\n",
    "    carry=\"0\"\n",
    "\n",
    "print(ans)"
   ]
  },
  {
   "cell_type": "code",
   "execution_count": 23,
   "metadata": {},
   "outputs": [
    {
     "data": {
      "text/plain": [
       "1669216686.4914038"
      ]
     },
     "execution_count": 23,
     "metadata": {},
     "output_type": "execute_result"
    }
   ],
   "source": [
    "import os\n",
    "from math import log10\n",
    "\n",
    "files=os.listdir(\".\")\n",
    "\n",
    "files.sort(key=lambda x: os.path.getmtime(x))\n",
    "# print(files) # list index 0 hold the oldest file\n",
    "digits=int(log10(len(files)))+1\n",
    "\n",
    "for i in range(1,len(files)):\n",
    "    newfile_name=f\"{str(i).zfill(digits)}_{files[i]}\"\n",
    "    os.rename(files[i],newfile_name)\n",
    "    # print(newfile_name)\n"
   ]
  }
 ],
 "metadata": {
  "kernelspec": {
   "display_name": "Python 3",
   "language": "python",
   "name": "python3"
  },
  "language_info": {
   "codemirror_mode": {
    "name": "ipython",
    "version": 3
   },
   "file_extension": ".py",
   "mimetype": "text/x-python",
   "name": "python",
   "nbconvert_exporter": "python",
   "pygments_lexer": "ipython3",
   "version": "3.10.6"
  },
  "orig_nbformat": 4
 },
 "nbformat": 4,
 "nbformat_minor": 2
}
